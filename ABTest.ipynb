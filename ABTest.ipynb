{
 "cells": [
  {
   "cell_type": "code",
   "execution_count": 1,
   "metadata": {},
   "outputs": [],
   "source": [
    "import pandas as pd\n",
    "import numpy as np\n",
    "import matplotlib.pyplot as plt\n",
    "%matplotlib inline"
   ]
  },
  {
   "cell_type": "code",
   "execution_count": 2,
   "metadata": {},
   "outputs": [
    {
     "data": {
      "text/html": [
       "<div>\n",
       "<style scoped>\n",
       "    .dataframe tbody tr th:only-of-type {\n",
       "        vertical-align: middle;\n",
       "    }\n",
       "\n",
       "    .dataframe tbody tr th {\n",
       "        vertical-align: top;\n",
       "    }\n",
       "\n",
       "    .dataframe thead th {\n",
       "        text-align: right;\n",
       "    }\n",
       "</style>\n",
       "<table border=\"1\" class=\"dataframe\">\n",
       "  <thead>\n",
       "    <tr style=\"text-align: right;\">\n",
       "      <th></th>\n",
       "      <th>user_id</th>\n",
       "      <th>timestamp</th>\n",
       "      <th>group</th>\n",
       "      <th>landing_page</th>\n",
       "      <th>converted</th>\n",
       "    </tr>\n",
       "  </thead>\n",
       "  <tbody>\n",
       "    <tr>\n",
       "      <th>0</th>\n",
       "      <td>851104</td>\n",
       "      <td>2017-01-21 22:11:48.556739</td>\n",
       "      <td>control</td>\n",
       "      <td>old_page</td>\n",
       "      <td>0</td>\n",
       "    </tr>\n",
       "    <tr>\n",
       "      <th>1</th>\n",
       "      <td>804228</td>\n",
       "      <td>2017-01-12 08:01:45.159739</td>\n",
       "      <td>control</td>\n",
       "      <td>old_page</td>\n",
       "      <td>0</td>\n",
       "    </tr>\n",
       "    <tr>\n",
       "      <th>2</th>\n",
       "      <td>661590</td>\n",
       "      <td>2017-01-11 16:55:06.154213</td>\n",
       "      <td>treatment</td>\n",
       "      <td>new_page</td>\n",
       "      <td>0</td>\n",
       "    </tr>\n",
       "    <tr>\n",
       "      <th>3</th>\n",
       "      <td>853541</td>\n",
       "      <td>2017-01-08 18:28:03.143765</td>\n",
       "      <td>treatment</td>\n",
       "      <td>new_page</td>\n",
       "      <td>0</td>\n",
       "    </tr>\n",
       "    <tr>\n",
       "      <th>4</th>\n",
       "      <td>864975</td>\n",
       "      <td>2017-01-21 01:52:26.210827</td>\n",
       "      <td>control</td>\n",
       "      <td>old_page</td>\n",
       "      <td>1</td>\n",
       "    </tr>\n",
       "  </tbody>\n",
       "</table>\n",
       "</div>"
      ],
      "text/plain": [
       "   user_id                   timestamp      group landing_page  converted\n",
       "0   851104  2017-01-21 22:11:48.556739    control     old_page          0\n",
       "1   804228  2017-01-12 08:01:45.159739    control     old_page          0\n",
       "2   661590  2017-01-11 16:55:06.154213  treatment     new_page          0\n",
       "3   853541  2017-01-08 18:28:03.143765  treatment     new_page          0\n",
       "4   864975  2017-01-21 01:52:26.210827    control     old_page          1"
      ]
     },
     "execution_count": 2,
     "metadata": {},
     "output_type": "execute_result"
    }
   ],
   "source": [
    "page_df=pd.read_csv('ab_data.csv')\n",
    "page_df.head()"
   ]
  },
  {
   "cell_type": "markdown",
   "metadata": {},
   "source": [
    "分组（实验组or对照组）、展示的页面版本（新版or旧版），以及该用户是否转化（0-未转化 or 1-转化）"
   ]
  },
  {
   "cell_type": "markdown",
   "metadata": {},
   "source": [
    "# Data Cleasing\n"
   ]
  },
  {
   "cell_type": "markdown",
   "metadata": {},
   "source": [
    "## Check duplicated user_id"
   ]
  },
  {
   "cell_type": "code",
   "execution_count": 3,
   "metadata": {},
   "outputs": [
    {
     "name": "stdout",
     "output_type": "stream",
     "text": [
      "数据行数： 294478\n",
      "独立用户数： 290584\n"
     ]
    }
   ],
   "source": [
    "print('数据行数：', page_df.shape[0])\n",
    "print('独立用户数：', page_df.user_id.nunique())"
   ]
  },
  {
   "cell_type": "code",
   "execution_count": 4,
   "metadata": {},
   "outputs": [
    {
     "data": {
      "text/html": [
       "<div>\n",
       "<style scoped>\n",
       "    .dataframe tbody tr th:only-of-type {\n",
       "        vertical-align: middle;\n",
       "    }\n",
       "\n",
       "    .dataframe tbody tr th {\n",
       "        vertical-align: top;\n",
       "    }\n",
       "\n",
       "    .dataframe thead th {\n",
       "        text-align: right;\n",
       "    }\n",
       "</style>\n",
       "<table border=\"1\" class=\"dataframe\">\n",
       "  <thead>\n",
       "    <tr style=\"text-align: right;\">\n",
       "      <th></th>\n",
       "      <th>user_id</th>\n",
       "      <th>timestamp</th>\n",
       "      <th>group</th>\n",
       "      <th>landing_page</th>\n",
       "      <th>converted</th>\n",
       "    </tr>\n",
       "  </thead>\n",
       "  <tbody>\n",
       "    <tr>\n",
       "      <th>230259</th>\n",
       "      <td>630052</td>\n",
       "      <td>2017-01-17 01:16:05.208766</td>\n",
       "      <td>treatment</td>\n",
       "      <td>new_page</td>\n",
       "      <td>0</td>\n",
       "    </tr>\n",
       "    <tr>\n",
       "      <th>213114</th>\n",
       "      <td>630052</td>\n",
       "      <td>2017-01-07 12:25:54.089486</td>\n",
       "      <td>treatment</td>\n",
       "      <td>old_page</td>\n",
       "      <td>1</td>\n",
       "    </tr>\n",
       "    <tr>\n",
       "      <th>22513</th>\n",
       "      <td>630126</td>\n",
       "      <td>2017-01-14 13:35:54.778695</td>\n",
       "      <td>treatment</td>\n",
       "      <td>old_page</td>\n",
       "      <td>0</td>\n",
       "    </tr>\n",
       "    <tr>\n",
       "      <th>251762</th>\n",
       "      <td>630126</td>\n",
       "      <td>2017-01-19 17:16:00.280440</td>\n",
       "      <td>treatment</td>\n",
       "      <td>new_page</td>\n",
       "      <td>0</td>\n",
       "    </tr>\n",
       "    <tr>\n",
       "      <th>183371</th>\n",
       "      <td>630137</td>\n",
       "      <td>2017-01-20 02:08:49.893878</td>\n",
       "      <td>control</td>\n",
       "      <td>old_page</td>\n",
       "      <td>0</td>\n",
       "    </tr>\n",
       "    <tr>\n",
       "      <th>11792</th>\n",
       "      <td>630137</td>\n",
       "      <td>2017-01-22 14:59:22.051308</td>\n",
       "      <td>control</td>\n",
       "      <td>new_page</td>\n",
       "      <td>0</td>\n",
       "    </tr>\n",
       "    <tr>\n",
       "      <th>207211</th>\n",
       "      <td>630320</td>\n",
       "      <td>2017-01-07 18:02:43.626318</td>\n",
       "      <td>control</td>\n",
       "      <td>old_page</td>\n",
       "      <td>0</td>\n",
       "    </tr>\n",
       "    <tr>\n",
       "      <th>255753</th>\n",
       "      <td>630320</td>\n",
       "      <td>2017-01-12 05:27:37.181803</td>\n",
       "      <td>treatment</td>\n",
       "      <td>old_page</td>\n",
       "      <td>0</td>\n",
       "    </tr>\n",
       "    <tr>\n",
       "      <th>96929</th>\n",
       "      <td>630471</td>\n",
       "      <td>2017-01-07 02:14:17.405726</td>\n",
       "      <td>control</td>\n",
       "      <td>new_page</td>\n",
       "      <td>0</td>\n",
       "    </tr>\n",
       "    <tr>\n",
       "      <th>110634</th>\n",
       "      <td>630471</td>\n",
       "      <td>2017-01-23 01:42:51.501851</td>\n",
       "      <td>control</td>\n",
       "      <td>old_page</td>\n",
       "      <td>0</td>\n",
       "    </tr>\n",
       "  </tbody>\n",
       "</table>\n",
       "</div>"
      ],
      "text/plain": [
       "        user_id                   timestamp      group landing_page  converted\n",
       "230259   630052  2017-01-17 01:16:05.208766  treatment     new_page          0\n",
       "213114   630052  2017-01-07 12:25:54.089486  treatment     old_page          1\n",
       "22513    630126  2017-01-14 13:35:54.778695  treatment     old_page          0\n",
       "251762   630126  2017-01-19 17:16:00.280440  treatment     new_page          0\n",
       "183371   630137  2017-01-20 02:08:49.893878    control     old_page          0\n",
       "11792    630137  2017-01-22 14:59:22.051308    control     new_page          0\n",
       "207211   630320  2017-01-07 18:02:43.626318    control     old_page          0\n",
       "255753   630320  2017-01-12 05:27:37.181803  treatment     old_page          0\n",
       "96929    630471  2017-01-07 02:14:17.405726    control     new_page          0\n",
       "110634   630471  2017-01-23 01:42:51.501851    control     old_page          0"
      ]
     },
     "execution_count": 4,
     "metadata": {},
     "output_type": "execute_result"
    }
   ],
   "source": [
    "page_df[page_df.user_id.duplicated(keep=False)].sort_values(by = 'user_id').head(10)"
   ]
  },
  {
   "cell_type": "markdown",
   "metadata": {},
   "source": [
    "## Remove the rows that have mismatches of group and landing_page\n",
    "按理来说实验组对应的是老页面，对照对应新页面，对不上的就删了"
   ]
  },
  {
   "cell_type": "code",
   "execution_count": 5,
   "metadata": {},
   "outputs": [
    {
     "name": "stdout",
     "output_type": "stream",
     "text": [
      "不匹配数： 3893\n"
     ]
    }
   ],
   "source": [
    "#page_df['group'] == 'treatment'是bool，mismatch也是bool\n",
    "mismatch = ((page_df['group'] == 'treatment') != (page_df['landing_page'] == 'new_page'))\n",
    "print('不匹配数：', mismatch.sum())"
   ]
  },
  {
   "cell_type": "code",
   "execution_count": 6,
   "metadata": {},
   "outputs": [],
   "source": [
    "match_df = page_df[~mismatch].copy()  # mismatch~按位取反，就是要match的咯"
   ]
  },
  {
   "cell_type": "markdown",
   "metadata": {},
   "source": [
    "再次查看行数与独立用户数"
   ]
  },
  {
   "cell_type": "code",
   "execution_count": 7,
   "metadata": {},
   "outputs": [
    {
     "name": "stdout",
     "output_type": "stream",
     "text": [
      "数据行数： 290585\n",
      "独立用户数： 290584\n"
     ]
    }
   ],
   "source": [
    "print('数据行数：', match_df.shape[0])\n",
    "print('独立用户数：', match_df.user_id.nunique())"
   ]
  },
  {
   "cell_type": "markdown",
   "metadata": {},
   "source": [
    "## Remove duplicated user_id\n",
    "\n",
    "根据唯一性的要求，用户不被重复计入测试"
   ]
  },
  {
   "cell_type": "code",
   "execution_count": 8,
   "metadata": {},
   "outputs": [
    {
     "data": {
      "text/html": [
       "<div>\n",
       "<style scoped>\n",
       "    .dataframe tbody tr th:only-of-type {\n",
       "        vertical-align: middle;\n",
       "    }\n",
       "\n",
       "    .dataframe tbody tr th {\n",
       "        vertical-align: top;\n",
       "    }\n",
       "\n",
       "    .dataframe thead th {\n",
       "        text-align: right;\n",
       "    }\n",
       "</style>\n",
       "<table border=\"1\" class=\"dataframe\">\n",
       "  <thead>\n",
       "    <tr style=\"text-align: right;\">\n",
       "      <th></th>\n",
       "      <th>user_id</th>\n",
       "      <th>timestamp</th>\n",
       "      <th>group</th>\n",
       "      <th>landing_page</th>\n",
       "      <th>converted</th>\n",
       "    </tr>\n",
       "  </thead>\n",
       "  <tbody>\n",
       "    <tr>\n",
       "      <th>1899</th>\n",
       "      <td>773192</td>\n",
       "      <td>2017-01-09 05:37:58.781806</td>\n",
       "      <td>treatment</td>\n",
       "      <td>new_page</td>\n",
       "      <td>0</td>\n",
       "    </tr>\n",
       "    <tr>\n",
       "      <th>2893</th>\n",
       "      <td>773192</td>\n",
       "      <td>2017-01-14 02:55:59.590927</td>\n",
       "      <td>treatment</td>\n",
       "      <td>new_page</td>\n",
       "      <td>0</td>\n",
       "    </tr>\n",
       "  </tbody>\n",
       "</table>\n",
       "</div>"
      ],
      "text/plain": [
       "      user_id                   timestamp      group landing_page  converted\n",
       "1899   773192  2017-01-09 05:37:58.781806  treatment     new_page          0\n",
       "2893   773192  2017-01-14 02:55:59.590927  treatment     new_page          0"
      ]
     },
     "execution_count": 8,
     "metadata": {},
     "output_type": "execute_result"
    }
   ],
   "source": [
    "# 查看重复值\n",
    "match_df[match_df.user_id.duplicated(keep=False)]"
   ]
  },
  {
   "cell_type": "code",
   "execution_count": 9,
   "metadata": {},
   "outputs": [],
   "source": [
    "# 删\n",
    "match_df = match_df.drop_duplicates(subset=['user_id'], keep='last')"
   ]
  },
  {
   "cell_type": "markdown",
   "metadata": {},
   "source": [
    "## Check missing value"
   ]
  },
  {
   "cell_type": "code",
   "execution_count": 10,
   "metadata": {},
   "outputs": [
    {
     "data": {
      "text/plain": [
       "user_id         0\n",
       "timestamp       0\n",
       "group           0\n",
       "landing_page    0\n",
       "converted       0\n",
       "dtype: int64"
      ]
     },
     "execution_count": 10,
     "metadata": {},
     "output_type": "execute_result"
    }
   ],
   "source": [
    "match_df.isnull().sum()"
   ]
  },
  {
   "cell_type": "code",
   "execution_count": 11,
   "metadata": {},
   "outputs": [
    {
     "data": {
      "text/plain": [
       "0.5000619442226688"
      ]
     },
     "execution_count": 11,
     "metadata": {},
     "output_type": "execute_result"
    }
   ],
   "source": [
    "# 刷到新页面的用户占比\n",
    "match_df[match_df.landing_page==\"new_page\"].shape[0]/match_df.shape[0]"
   ]
  },
  {
   "cell_type": "markdown",
   "metadata": {},
   "source": [
    "# A/B Testing\n",
    "\n",
    "先假设检验，统计检验显著后（有差异），再用效应量科恩d值去算效应大小"
   ]
  },
  {
   "cell_type": "markdown",
   "metadata": {},
   "source": [
    "Null Hypo：**$p_{old}$-$p_{new}$>=0** \n",
    "\n",
    "Alternative Hypo：**$p_{old}$-$p_{new}$<0**"
   ]
  },
  {
   "cell_type": "markdown",
   "metadata": {},
   "source": [
    "## 法一 ：手算\n",
    "\n",
    "### 算检验统计量z"
   ]
  },
  {
   "cell_type": "markdown",
   "metadata": {},
   "source": [
    "独立双样本，number of samples > 30,总体的均值和标准差未知，因为中心极限定理，样本均值服从正态分布，总体方差可以用样本方差来估计，用Z-test。(alpha取0.05，其中$p_{c}$是转化率的联合统计。\n",
    "\n",
    "**$z = \\frac {p_{old} - p_{new}} {\\sqrt{ \\frac{1}{n_{old}} + \\frac{1}{n_{new}} \\times p_c \\times (1 - p_c)}}$**"
   ]
  },
  {
   "cell_type": "code",
   "execution_count": 12,
   "metadata": {},
   "outputs": [
    {
     "name": "stdout",
     "output_type": "stream",
     "text": [
      "旧版总受试用户数: 145274 旧版转化用户数: 17489 旧版转化率: 0.1203863045004612\n",
      "新版总受试用户数: 145310 新版转化用户数: 17872 新版转化率: 0.12299222352212512\n"
     ]
    }
   ],
   "source": [
    "# 总受试用户数\n",
    "n_old = match_df[match_df.landing_page==\"old_page\"].shape[0]\n",
    "n_new = match_df[match_df.landing_page==\"new_page\"].shape[0]\n",
    "\n",
    "# 转化用户数\n",
    "convert_old = match_df.query('group==\"control\" & converted==1').shape[0]\n",
    "convert_new = match_df.query('group==\"treatment\" & converted==1').shape[0]\n",
    "\n",
    "# 转化率\n",
    "p_old = convert_old / n_old\n",
    "p_new = convert_new / n_new\n",
    "\n",
    "print('旧版总受试用户数:', n_old, '旧版转化用户数:', convert_old, '旧版转化率:', p_old)\n",
    "print('新版总受试用户数:', n_new, '新版转化用户数:', convert_new, '新版转化率:', p_new)"
   ]
  },
  {
   "cell_type": "code",
   "execution_count": 13,
   "metadata": {},
   "outputs": [
    {
     "name": "stdout",
     "output_type": "stream",
     "text": [
      "转化率联合估计: 0.12168942543292129\n"
     ]
    }
   ],
   "source": [
    "p_c = (convert_old + convert_new)/(n_old + n_new)\n",
    "print('转化率联合估计:', p_c)"
   ]
  },
  {
   "cell_type": "code",
   "execution_count": 14,
   "metadata": {},
   "outputs": [
    {
     "name": "stdout",
     "output_type": "stream",
     "text": [
      "检验统计量z: -2.1484056695589\n"
     ]
    }
   ],
   "source": [
    "z = (p_old - p_new)/ np.sqrt(p_c*(1 - p_c)*( 1/n_old + 1/n_new))\n",
    "print('检验统计量z:', z)"
   ]
  },
  {
   "cell_type": "markdown",
   "metadata": {},
   "source": [
    "### 查表\n",
    "Z分布alpha0.05对应的分位数$z_{alpha}$，备择假设是左尾（单侧）"
   ]
  },
  {
   "cell_type": "code",
   "execution_count": 15,
   "metadata": {},
   "outputs": [
    {
     "data": {
      "text/plain": [
       "-1.6448536269514729"
      ]
     },
     "execution_count": 15,
     "metadata": {},
     "output_type": "execute_result"
    }
   ],
   "source": [
    "from scipy.stats import norm\n",
    "z_alpha = norm.ppf(0.05)\n",
    "# 查表-单侧 双侧的0.05其实是单侧的0.025，即1.96 \n",
    "z_alpha"
   ]
  },
  {
   "cell_type": "markdown",
   "metadata": {},
   "source": [
    "一般取三位为-1.644，拒绝域是{z <= $z_{alpha}$ },z=-2.15落入拒绝域，因此拒绝null hypo."
   ]
  },
  {
   "cell_type": "markdown",
   "metadata": {},
   "source": [
    "### 统计检验显著后 算科恩d\n",
    "\n",
    "\n",
    "**假设检验并不能真正的衡量差异的大小，它只能判断差异是否比随机造成的更大**\n",
    "\n",
    "统计假设检验报告了假设观察结果的可能性，例如，变量之间没有关联或集合之间没有差异。\n",
    "\n",
    "如果关联或差异具有统计学意义，则假设检验不会评估效果的大小。\n",
    "\n",
    "效应量方法是指用于量化实验结果中效应量的一套统计工具，可用于**补充统计假设检验的结果**。\n",
    "\n",
    "因此，我们在报告假设检验结果的同时，给出**效应的大小**，对比平均值时，衡量效应大小的常见标准之一是科恩d值Cohen's d：\n",
    "\n",
    "d = \\frac{样本平均值_{1} - 样本平均值_{2}}{标准差}\n",
    "\n",
    "由于是双独立样本的，用双独立样本的合并标准差pooled standard deviations代替标准差：\n",
    "\n",
    "**$s = \\sqrt{\\frac{(n_1 - 1) \\times s_1^2  + (n_2 - 1) \\times {s_2}^2}{n_1 + n_2 -2}}$**\n",
    "\n",
    "$n_1$，$n_2$：第一个样本和第二个样本的大小\n",
    "\n",
    "$s_1$，$s_1$：第一个样本和第二个的标准差\n"
   ]
  },
  {
   "cell_type": "code",
   "execution_count": 16,
   "metadata": {},
   "outputs": [
    {
     "data": {
      "text/plain": [
       "(145274, 145310)"
      ]
     },
     "execution_count": 16,
     "metadata": {},
     "output_type": "execute_result"
    }
   ],
   "source": [
    "n_old, n_new"
   ]
  },
  {
   "cell_type": "code",
   "execution_count": 17,
   "metadata": {},
   "outputs": [
    {
     "data": {
      "text/plain": [
       "(0.1203863045004612, 0.12299222352212512)"
      ]
     },
     "execution_count": 17,
     "metadata": {},
     "output_type": "execute_result"
    }
   ],
   "source": [
    "p_old, p_new"
   ]
  },
  {
   "cell_type": "code",
   "execution_count": 18,
   "metadata": {},
   "outputs": [
    {
     "name": "stdout",
     "output_type": "stream",
     "text": [
      "Cohen's d为： -0.007970992391336005\n"
     ]
    }
   ],
   "source": [
    "# 合并标准差\n",
    "std_old = match_df[match_df.landing_page==\"old_page\"].converted.std()\n",
    "std_new = match_df[match_df.landing_page==\"new_page\"].converted.std()\n",
    "s = np.sqrt(((n_old - 1)* std_old**2 + (n_new - 1)* std_new**2 ) / (n_old + n_new - 2))\n",
    "# Cohen's d\n",
    "d = (p_old - p_new) / s\n",
    "print('Cohen\\'s d为：', d)"
   ]
  },
  {
   "cell_type": "markdown",
   "metadata": {},
   "source": [
    "## 法二：不手算，用现成的"
   ]
  },
  {
   "cell_type": "markdown",
   "metadata": {},
   "source": [
    "`stats.proportions_ztest` 计算检验统计量z与p值。[官方文档](https://www.statsmodels.org/stable/generated/statsmodels.stats.proportion.proportions_ztest.html#statsmodels.stats.proportion.proportions_ztest)"
   ]
  },
  {
   "cell_type": "code",
   "execution_count": 19,
   "metadata": {},
   "outputs": [
    {
     "name": "stdout",
     "output_type": "stream",
     "text": [
      "检验统计量z: -2.1484056695589 ，p值: 0.015840771394875417\n"
     ]
    }
   ],
   "source": [
    "import statsmodels.stats.proportion as sp\n",
    "z_score, p_value = sp.proportions_ztest([convert_old, convert_new], [n_old, n_new], alternative='smaller')\n",
    "print('检验统计量z:', z_score, '，p值:', p_value)"
   ]
  },
  {
   "cell_type": "markdown",
   "metadata": {},
   "source": [
    "或者用 `stats.weightstats.ztest` 计算检验统计量z与p值。\n",
    "[官方文档](https://www.statsmodels.org/stable/generated/statsmodels.stats.weightstats.ztest.html)"
   ]
  },
  {
   "cell_type": "code",
   "execution_count": 20,
   "metadata": {},
   "outputs": [
    {
     "name": "stdout",
     "output_type": "stream",
     "text": [
      "检验统计量z: -2.148415338961362 ，p值: 0.01584038766094882\n"
     ]
    }
   ],
   "source": [
    "import statsmodels.stats.weightstats as sw\n",
    "z_score1, p_value1 = sw.ztest(match_df.query('landing_page==\"old_page\"')['converted'], match_df.query('landing_page==\"new_page\"')['converted'],\n",
    "                        alternative='smaller')\n",
    "print('检验统计量z:', z_score1, '，p值:', p_value1)"
   ]
  },
  {
   "cell_type": "markdown",
   "metadata": {},
   "source": [
    "## 法三：蒙特卡洛法"
   ]
  },
  {
   "cell_type": "markdown",
   "metadata": {},
   "source": [
    "其实就是模拟法，用计算机模拟多次抽样，获得分布。\n",
    "\n",
    "在零假设的前提下，p_old = p_new是一个**临界情况**（即零假设前提下最接近备择假设的情况）。\n",
    "如果连相等的情况都能拒绝，那么零假设的剩下部分就更能够拒绝了。\n",
    "取p_old = p_new = p_all"
   ]
  },
  {
   "cell_type": "markdown",
   "metadata": {},
   "source": [
    "进行一次模拟：\n",
    "以总体的p_all为新旧版共同的转化率均值，分别进行n_old和n_new次0-1抽样，使模拟的样本大小同ab_data.csv中的样本大小相同。"
   ]
  },
  {
   "cell_type": "code",
   "execution_count": 21,
   "metadata": {},
   "outputs": [
    {
     "name": "stdout",
     "output_type": "stream",
     "text": [
      "p_all: 0.12168942543292129\n"
     ]
    }
   ],
   "source": [
    "p_all = match_df.converted.mean()\n",
    "print('p_all:', p_all)"
   ]
  },
  {
   "cell_type": "code",
   "execution_count": 22,
   "metadata": {},
   "outputs": [
    {
     "name": "stdout",
     "output_type": "stream",
     "text": [
      "旧版模拟结果： [0 0 1 ... 0 0 0] ，新版模拟结果： [0 0 0 ... 0 0 0] ，模拟的转化率差值： -0.0006857325053662988\n"
     ]
    }
   ],
   "source": [
    "old_page = np.random.choice(2, size=n_old, p=[1-p_all, p_all])\n",
    "new_page = np.random.choice(2, size=n_new, p=[1-p_all, p_all])\n",
    "diff = old_page.mean() - new_page.mean()\n",
    "print('旧版模拟结果：', old_page, '，新版模拟结果：', new_page, '，模拟的转化率差值：', diff)"
   ]
  },
  {
   "cell_type": "code",
   "execution_count": 23,
   "metadata": {},
   "outputs": [
    {
     "name": "stdout",
     "output_type": "stream",
     "text": [
      "ab_data.csv样本的转化率差值: -0.002605919021663919\n"
     ]
    }
   ],
   "source": [
    "match_diff = match_df[match_df.landing_page==\"old_page\"]['converted'].mean()-match_df[match_df.landing_page==\"new_page\"]['converted'].mean()\n",
    "print('ab_data.csv样本的转化率差值:', match_diff)"
   ]
  },
  {
   "cell_type": "markdown",
   "metadata": {},
   "source": [
    "按照如上方式进行多次模拟，这里我们进行10000次："
   ]
  },
  {
   "cell_type": "code",
   "execution_count": 24,
   "metadata": {},
   "outputs": [],
   "source": [
    "diffs=[]\n",
    "for i in range(10000):\n",
    "    p_new_diff = np.random.choice(2,size=n_new,p=[1-p_all,p_all]).mean()\n",
    "    p_old_diff = np.random.choice(2,size=n_old,p=[1-p_all,p_all]).mean()\n",
    "    diffs.append(p_old_diff - p_new_diff)"
   ]
  },
  {
   "cell_type": "markdown",
   "metadata": {},
   "source": [
    "实际上每次模拟都得到了一个大小为290584的样本，此处相当于得到了10000个样本。并计算出了每个样本得到的版本转化率差值，将其存储在diffs中。"
   ]
  },
  {
   "cell_type": "markdown",
   "metadata": {},
   "source": [
    "直方图：若旧版和新版的转化率相等，随机10000次（次数够多，根据大数定律，近似于真实的分布），两者的差值的分布："
   ]
  },
  {
   "cell_type": "code",
   "execution_count": 25,
   "metadata": {},
   "outputs": [
    {
     "data": {
      "text/plain": [
       "<matplotlib.lines.Line2D at 0x11e33f828>"
      ]
     },
     "execution_count": 25,
     "metadata": {},
     "output_type": "execute_result"
    },
    {
     "data": {
      "image/png": "[encoded data removed]",
      "text/plain": [
       "<Figure size 432x288 with 1 Axes>"
      ]
     },
     "metadata": {
      "needs_background": "light"
     },
     "output_type": "display_data"
    }
   ],
   "source": [
    "diffs = np.array(diffs)\n",
    "plt.hist(diffs)\n",
    "plt.axvline(match_diff)"
   ]
  },
  {
   "cell_type": "markdown",
   "metadata": {},
   "source": [
    "越靠近两边越极端，竖线是样本ab_data.csv的差值所在位置，落在了很左的地方，竖线左侧的**面积**很小，即发生竖线及竖线左端的情况的可能性很小，也就是说ab_data.csv这个样本，在旧版和新版转化率相等的情况有可能出现，但出现的可能性很小；而竖线右端的情况说明只做了几次A/B测试就很可能得到了零假设所说的极端情况，则零假设很有可能是不成立的。所以反推出，旧版和新版的转化率很有可能不相等。"
   ]
  },
  {
   "cell_type": "markdown",
   "metadata": {},
   "source": [
    "在diffs列表的数值中，有多大比例小于ab_data.csv中观察到的实际差值？"
   ]
  },
  {
   "cell_type": "code",
   "execution_count": 26,
   "metadata": {
    "scrolled": true
   },
   "outputs": [
    {
     "data": {
      "text/plain": [
       "0.0164"
      ]
     },
     "execution_count": 26,
     "metadata": {},
     "output_type": "execute_result"
    }
   ],
   "source": [
    "(diffs < match_diff).mean()\n",
    "# 这个值是变动的每次跑都不一样，但都差不多接近前几个方法中的p值0.01"
   ]
  },
  {
   "cell_type": "markdown",
   "metadata": {},
   "source": [
    "在$p_{old} = p_{new}$的时候，进行10000次模拟得到的差值中，只有1.48%的比ab_data.csv中的差值更极端。"
   ]
  }
 ],
 "metadata": {
  "kernelspec": {
   "display_name": "Python 3",
   "language": "python",
   "name": "python3"
  },
  "language_info": {
   "codemirror_mode": {
    "name": "ipython",
    "version": 3
   },
   "file_extension": ".py",
   "mimetype": "text/x-python",
   "name": "python",
   "nbconvert_exporter": "python",
   "pygments_lexer": "ipython3",
   "version": "3.7.1"
  }
 },
 "nbformat": 4,
 "nbformat_minor": 2
}
