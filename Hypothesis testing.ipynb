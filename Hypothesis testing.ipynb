{
 "cells": [
  {
   "cell_type": "markdown",
   "metadata": {},
   "source": [
    "### 假设检验\n",
    "\n",
    "Stroop任务中，参与者得到了一列文字，每个文字都用一种颜色。参与者的任务是将文字的打印颜色大声说出来。这项任务有两个条件：一致文字条件，和不一致文字条件。在一致文字条件中，显示的文字是与它们的打印颜色匹配的颜色词，如“红色”、“蓝色”。在不一致文字条件中，显示的文字是与它们的打印颜色不匹配的颜色词。在每个情况中，将计量说出同等大小的列表中的墨色名称的时间。\n",
    "\n",
    "(1) 自变量？因变量？"
   ]
  },
  {
   "cell_type": "markdown",
   "metadata": {},
   "source": [
    "自变量是文字显示的颜色与打印的颜色名称是否匹配\n",
    "\n",
    "因变量是参与者将文字显示的颜色说出一遍所需要的时间"
   ]
  },
  {
   "cell_type": "markdown",
   "metadata": {},
   "source": [
    "(2) 假设集是什么？（文字和数学符号方式对假设集中的零假设和对立假设加以说明）你想执行什么类型的统计检验？为你的选择提供正当理由（比如，为何该实验满足你所选统计检验的前置条件）。"
   ]
  },
  {
   "cell_type": "markdown",
   "metadata": {},
   "source": [
    "\n",
    "假设集：\n",
    "\n",
    "µ_match:文字的颜色和文字打印的颜色匹配的情况下的阅读时间的总体均值\n",
    "\n",
    "µ_unmatch:文字的颜色和文字打印的颜色不匹配的情况下的阅读时间的总体均值\n",
    "\n",
    "µ_match = µ_unmatch, 零假设(null hypothesis)：文字的颜色和文字打印的颜色不匹配，不会影响参与者的阅读时间\n",
    "\n",
    "µ_match != µ_unmatch, 备择假设(alternative hypothesis)：文字的颜色和文字打印的颜色不匹配，会影响参与者的阅读时间\n",
    "\n",
    "本题选用配对样本t检验（paired t test），因为本题目的是检验文字颜色匹配或不匹配这两个条件下的阅读时间总体均数是否有差别，即同一受试对象接受两种不同的处理。"
   ]
  },
  {
   "cell_type": "markdown",
   "metadata": {},
   "source": [
    "(3) 描述性统计，包含至少一个集中趋势测量和至少一个变异测量。"
   ]
  },
  {
   "cell_type": "code",
   "execution_count": 1,
   "metadata": {
    "scrolled": true
   },
   "outputs": [
    {
     "data": {
      "text/html": [
       "<div>\n",
       "<style scoped>\n",
       "    .dataframe tbody tr th:only-of-type {\n",
       "        vertical-align: middle;\n",
       "    }\n",
       "\n",
       "    .dataframe tbody tr th {\n",
       "        vertical-align: top;\n",
       "    }\n",
       "\n",
       "    .dataframe thead th {\n",
       "        text-align: right;\n",
       "    }\n",
       "</style>\n",
       "<table border=\"1\" class=\"dataframe\">\n",
       "  <thead>\n",
       "    <tr style=\"text-align: right;\">\n",
       "      <th></th>\n",
       "      <th>Congruent</th>\n",
       "      <th>Incongruent</th>\n",
       "    </tr>\n",
       "  </thead>\n",
       "  <tbody>\n",
       "    <tr>\n",
       "      <th>count</th>\n",
       "      <td>24.000000</td>\n",
       "      <td>24.000000</td>\n",
       "    </tr>\n",
       "    <tr>\n",
       "      <th>mean</th>\n",
       "      <td>14.051125</td>\n",
       "      <td>22.015917</td>\n",
       "    </tr>\n",
       "    <tr>\n",
       "      <th>std</th>\n",
       "      <td>3.559358</td>\n",
       "      <td>4.797057</td>\n",
       "    </tr>\n",
       "    <tr>\n",
       "      <th>min</th>\n",
       "      <td>8.630000</td>\n",
       "      <td>15.687000</td>\n",
       "    </tr>\n",
       "    <tr>\n",
       "      <th>25%</th>\n",
       "      <td>11.895250</td>\n",
       "      <td>18.716750</td>\n",
       "    </tr>\n",
       "    <tr>\n",
       "      <th>50%</th>\n",
       "      <td>14.356500</td>\n",
       "      <td>21.017500</td>\n",
       "    </tr>\n",
       "    <tr>\n",
       "      <th>75%</th>\n",
       "      <td>16.200750</td>\n",
       "      <td>24.051500</td>\n",
       "    </tr>\n",
       "    <tr>\n",
       "      <th>max</th>\n",
       "      <td>22.328000</td>\n",
       "      <td>35.255000</td>\n",
       "    </tr>\n",
       "  </tbody>\n",
       "</table>\n",
       "</div>"
      ],
      "text/plain": [
       "       Congruent  Incongruent\n",
       "count  24.000000    24.000000\n",
       "mean   14.051125    22.015917\n",
       "std     3.559358     4.797057\n",
       "min     8.630000    15.687000\n",
       "25%    11.895250    18.716750\n",
       "50%    14.356500    21.017500\n",
       "75%    16.200750    24.051500\n",
       "max    22.328000    35.255000"
      ]
     },
     "execution_count": 1,
     "metadata": {},
     "output_type": "execute_result"
    }
   ],
   "source": [
    "import pandas as pf\n",
    "import numpy as np\n",
    "\n",
    "df = pf.read_csv('./stroopdata.csv')\n",
    "df.describe()"
   ]
  },
  {
   "cell_type": "markdown",
   "metadata": {},
   "source": [
    "(4) Data Distribution"
   ]
  },
  {
   "cell_type": "code",
   "execution_count": 11,
   "metadata": {
    "scrolled": true
   },
   "outputs": [
    {
     "data": {
      "text/plain": [
       "<seaborn.axisgrid.PairGrid at 0x1a15db69e8>"
      ]
     },
     "execution_count": 11,
     "metadata": {},
     "output_type": "execute_result"
    },
    {
     "data": {
      "image/png": "[encoded data removed]",
      "text/plain": [
       "<Figure size 360x360 with 6 Axes>"
      ]
     },
     "metadata": {
      "needs_background": "light"
     },
     "output_type": "display_data"
    }
   ],
   "source": [
    "import seaborn as sns\n",
    "import matplotlib.pyplot as plt\n",
    "\n",
    "sns.pairplot(df)"
   ]
  },
  {
   "cell_type": "code",
   "execution_count": 3,
   "metadata": {
    "scrolled": true
   },
   "outputs": [
    {
     "data": {
      "image/png": "[encoded data removed]",
      "text/plain": [
       "<Figure size 648x360 with 1 Axes>"
      ]
     },
     "metadata": {
      "needs_background": "light"
     },
     "output_type": "display_data"
    }
   ],
   "source": [
    "df.index=range(0, len(df.Congruent))\n",
    "bar_width = 0.7\n",
    "x_pos = np.arange(len(df.Congruent) * 2, step=2)\n",
    "plt.figure(figsize=[9,5])\n",
    "plt.bar(x_pos, df['Congruent'], color='#FF7D40', width=bar_width)\n",
    "plt.bar(x_pos + bar_width, df['Incongruent'], color='#33A1C9', width=bar_width)\n",
    "plt.xticks(x_pos + bar_width / 2,df.index+1)\n",
    "plt.title('Reading time under different conditions', fontsize=16)\n",
    "plt.ylabel('Time')\n",
    "plt.legend(df.columns)\n",
    "plt.tight_layout()\n",
    "plt.show()\n",
    "\n",
    "#https://blog.csdn.net/u010606346/article/details/84402398"
   ]
  },
  {
   "cell_type": "code",
   "execution_count": 4,
   "metadata": {},
   "outputs": [
    {
     "name": "stdout",
     "output_type": "stream",
     "text": [
      "颜色一致的IQR：4.3054999999999986\n",
      "颜色不一致的IQR：5.33475\n",
      "Congruent的异常值：0个\n",
      "Incongruent的异常值：2个\n"
     ]
    },
    {
     "data": {
      "image/png": "[encoded data removed]",
      "text/plain": [
       "<Figure size 432x288 with 1 Axes>"
      ]
     },
     "metadata": {
      "needs_background": "light"
     },
     "output_type": "display_data"
    }
   ],
   "source": [
    "dfStroop = df\n",
    "\n",
    "# Outlier Detection\n",
    "Percentile1 = np.percentile(dfStroop['Congruent'], [0, 25, 50, 75, 100])\n",
    "Percentile2 = np.percentile(dfStroop['Incongruent'], [0, 25, 50, 75, 100])\n",
    "\n",
    "IQR = lambda p: p[3] - p[1]\n",
    "\n",
    "IQR1 = IQR(Percentile1)\n",
    "IQR2 = IQR(Percentile2)\n",
    "\n",
    "\n",
    "up = lambda p,IQR: p[3] + IQR*1.5\n",
    "down = lambda p,IQR: p[1] - IQR*1.5\n",
    "\n",
    "def check(p, up, down):\n",
    "    count = 0\n",
    "    for x in p:\n",
    "        if (x > up) or (x < down):\n",
    "            count += 1\n",
    "    return str(count)\n",
    "\n",
    "print('颜色一致的IQR：' + str(IQR1))\n",
    "print('颜色不一致的IQR：' + str(IQR2))\n",
    "\n",
    "up1 = float(up(Percentile1, IQR1))\n",
    "up2 = float(up(Percentile2, IQR2))\n",
    "down1 = float(down(Percentile1, IQR1))\n",
    "down2 = float(down(Percentile2, IQR2))\n",
    "\n",
    "print('Congruent的异常值：'+check(dfStroop['Congruent'], up1, down1)+'个')\n",
    "print('Incongruent的异常值：'+check(dfStroop['Incongruent'], up2, down2)+'个')\n",
    "\n",
    "dfStroop.boxplot();"
   ]
  },
  {
   "cell_type": "code",
   "execution_count": 5,
   "metadata": {},
   "outputs": [
    {
     "data": {
      "image/png": "[encoded data removed]",
      "text/plain": [
       "<Figure size 432x288 with 1 Axes>"
      ]
     },
     "metadata": {
      "needs_background": "light"
     },
     "output_type": "display_data"
    }
   ],
   "source": [
    "# 洗异常值\n",
    "dfCongruent = dfStroop.loc[(dfStroop.Congruent>=down1) & (dfStroop.Congruent<=up1),'Congruent']\n",
    "dfIncongruent = dfStroop.loc[(dfStroop.Incongruent>=down2) & (dfStroop.Incongruent<=up2),'Incongruent']\n",
    "\n",
    "#histogram\n",
    "plt.figure()\n",
    "plt.hist(dfCongruent, bins = 8,facecolor='g',edgecolor='g',alpha=0.5,label='Congruent')\n",
    "plt.hist(dfIncongruent,bins = 8, facecolor='r',edgecolor='r',alpha=0.5,label='Incongruent')\n",
    "plt.title('Histogram of reading time under different conditions')\n",
    "plt.xlabel('Reading time')\n",
    "plt.ylabel('Count')\n",
    "plt.legend(loc=1)\n",
    "plt.show()\n",
    "#两组数据均可看作正态分布。从图中可以看出，颜色一致时所花时间较少，而不一致则较多。"
   ]
  },
  {
   "cell_type": "code",
   "execution_count": 6,
   "metadata": {},
   "outputs": [
    {
     "data": {
      "image/png": "[encoded data removed]",
      "text/plain": [
       "<Figure size 360x288 with 2 Axes>"
      ]
     },
     "metadata": {
      "needs_background": "light"
     },
     "output_type": "display_data"
    }
   ],
   "source": [
    "#heatmap\n",
    "fig, ax = plt.subplots(figsize=(5, 4))\n",
    "corr = df.corr()\n",
    "hm = sns.heatmap(round(corr, 2), annot=True, ax=ax, cmap=\"coolwarm\", fmt='.2f')\n",
    "plt.show()"
   ]
  },
  {
   "cell_type": "markdown",
   "metadata": {},
   "source": [
    "\n",
    "1. Incongruent用的时间普遍大于Congruent的时间  \n",
    "2. 从box-plot检测出Incongruent有两个outliers\n",
    "3. heatmap和scatter plot(pairplot)能看出这两个变量有较弱的正相关关系"
   ]
  },
  {
   "cell_type": "markdown",
   "metadata": {},
   "source": [
    "(5) 置信水平和关键统计值？是否成功拒绝零假设？结果是否与你的期望一致？"
   ]
  },
  {
   "cell_type": "code",
   "execution_count": 7,
   "metadata": {},
   "outputs": [
    {
     "name": "stdout",
     "output_type": "stream",
     "text": [
      "<class 'pandas.core.frame.DataFrame'>\n",
      "RangeIndex: 24 entries, 0 to 23\n",
      "Data columns (total 2 columns):\n",
      "Congruent      24 non-null float64\n",
      "Incongruent    24 non-null float64\n",
      "dtypes: float64(2)\n",
      "memory usage: 464.0 bytes\n"
     ]
    }
   ],
   "source": [
    "df.info()  #才24个样本"
   ]
  },
  {
   "cell_type": "code",
   "execution_count": 8,
   "metadata": {},
   "outputs": [
    {
     "data": {
      "text/plain": [
       "-8.020706944109955"
      ]
     },
     "execution_count": 8,
     "metadata": {},
     "output_type": "execute_result"
    }
   ],
   "source": [
    "from scipy import stats\n",
    "\n",
    "#t统计量:t = mean / sqrt(std/n)，n为样本数\n",
    "n = 24\n",
    "mean_con, mean_inc = np.mean(df.Congruent), np.mean(df.Incongruent)\n",
    "std = np.std(df.Congruent-df.Incongruent, ddof=1)\n",
    "t = (mean_con - mean_inc)/(std/np.sqrt(n))\n",
    "t"
   ]
  },
  {
   "cell_type": "code",
   "execution_count": 9,
   "metadata": {},
   "outputs": [
    {
     "data": {
      "text/plain": [
       "2.051500292855593e-08"
      ]
     },
     "execution_count": 9,
     "metadata": {},
     "output_type": "execute_result"
    }
   ],
   "source": [
    "#算p值，自由度为样本数-1 = 23\n",
    "p = stats.t.sf(np.abs(t), 23)\n",
    "p"
   ]
  },
  {
   "cell_type": "markdown",
   "metadata": {},
   "source": [
    "\n",
    "使用单侧检验，显著性水平为1 - 0.95 = 0.05，\n",
    "\n",
    "有24个样本，自由度为24 - 1 = 23，\n",
    "\n",
    "查t-test临界值表，在显著性水平为0.05，自由度为23时，临界值为2.069，\n",
    "\n",
    "p值 = 2.051500292855593e-08 小于 显著性水平值0.05，\n",
    "\n",
    "因此，拒绝零假设，选择备择假设，即显示的颜色与打印的颜色名称不匹配时，对阅读者的阅读时间确实有影响。"
   ]
  },
  {
   "cell_type": "code",
   "execution_count": 10,
   "metadata": {},
   "outputs": [
    {
     "name": "stdout",
     "output_type": "stream",
     "text": [
      "-8.020706944109955\n",
      "2.051500292855593e-08\n",
      "95%置信区间：[-10.019 , -5.910]\n"
     ]
    }
   ],
   "source": [
    "# 统计检验\n",
    "meanC, meanI = np.mean(dfStroop.Congruent), np.mean(dfStroop.Incongruent)\n",
    "std = np.std(dfStroop.Congruent-dfStroop.Incongruent,ddof=1)\n",
    "t = (meanC - meanI)/(std/np.sqrt(24))\n",
    "print(t)\n",
    "\n",
    "# P值\n",
    "p = stats.t.sf(np.abs(t), 23)\n",
    "print(p)\n",
    "\n",
    "#置信区间\n",
    "mean_bar = meanC - meanI\n",
    "ci = std / np.sqrt(24) * 2.069\n",
    "\n",
    "low_limit = mean_bar - ci\n",
    "high_limit = mean_bar + ci\n",
    "print(\"95%%置信区间：[%.3f , %.3f]\" % (low_limit,high_limit))"
   ]
  }
 ],
 "metadata": {
  "anaconda-cloud": {},
  "kernelspec": {
   "display_name": "Python 3",
   "language": "python",
   "name": "python3"
  },
  "language_info": {
   "codemirror_mode": {
    "name": "ipython",
    "version": 3
   },
   "file_extension": ".py",
   "mimetype": "text/x-python",
   "name": "python",
   "nbconvert_exporter": "python",
   "pygments_lexer": "ipython3",
   "version": "3.7.1"
  }
 },
 "nbformat": 4,
 "nbformat_minor": 2
}
